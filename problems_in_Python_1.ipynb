{
 "cells": [
  {
   "cell_type": "code",
   "execution_count": 1,
   "metadata": {
    "collapsed": false,
    "scrolled": true
   },
   "outputs": [
    {
     "name": "stdout",
     "output_type": "stream",
     "text": [
      "super ice us\n"
     ]
    }
   ],
   "source": [
    "#Here I define the slice variables as the correct word slices.\n",
    "word = 'supercalifeagilisticexpialidocious'\n",
    "slice_1 = word[0:5]\n",
    "slice_2 = word[18:21]\n",
    "slice_3 = word[-2:]\n",
    "print (slice_1, slice_2, slice_3)"
   ]
  },
  {
   "cell_type": "code",
   "execution_count": 3,
   "metadata": {
    "collapsed": false
   },
   "outputs": [
    {
     "name": "stdout",
     "output_type": "stream",
     "text": [
      "6.0\n"
     ]
    }
   ],
   "source": [
    "#I defined the list of evens, then totaled and divided by 5 to gget the mean.\n",
    "evens = 2,4,6,8,10 \n",
    "total = evens[0] + evens[1] + evens[2] + evens[3] + evens[4]\n",
    "mean = total / 5\n",
    "print (mean)\n",
    "    \n",
    "    \n",
    "    \n",
    "    \n"
   ]
  },
  {
   "cell_type": "code",
   "execution_count": null,
   "metadata": {
    "collapsed": true
   },
   "outputs": [],
   "source": []
  }
 ],
 "metadata": {
  "kernelspec": {
   "display_name": "Python 3",
   "language": "python",
   "name": "python3"
  },
  "language_info": {
   "codemirror_mode": {
    "name": "ipython",
    "version": 3
   },
   "file_extension": ".py",
   "mimetype": "text/x-python",
   "name": "python",
   "nbconvert_exporter": "python",
   "pygments_lexer": "ipython3",
   "version": "3.4.3"
  }
 },
 "nbformat": 4,
 "nbformat_minor": 0
}
